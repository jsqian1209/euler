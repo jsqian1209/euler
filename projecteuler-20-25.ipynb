{
 "cells": [
  {
   "cell_type": "code",
   "execution_count": 1,
   "metadata": {},
   "outputs": [
    {
     "name": "stdout",
     "output_type": "stream",
     "text": [
      "648\n"
     ]
    }
   ],
   "source": [
    "# PE 20: Mod check approach\n",
    "\n",
    "# Create f = 100!\n",
    "f = 1\n",
    "for i in range(2,101):\n",
    "    f *= i\n",
    "\n",
    "sum_ = 0\n",
    "\n",
    "while f > 0:\n",
    "    sum_ += f % 10\n",
    "    f //= 10\n",
    "    \n",
    "print(sum_)"
   ]
  },
  {
   "cell_type": "code",
   "execution_count": 2,
   "metadata": {},
   "outputs": [
    {
     "name": "stdout",
     "output_type": "stream",
     "text": [
      "648\n"
     ]
    }
   ],
   "source": [
    "# PE 20: Using string and list comprehension\n",
    "\n",
    "# Create f = 100!\n",
    "f = 1\n",
    "for i in range(2,101):\n",
    "    f *= i\n",
    "\n",
    "# List comprehension\n",
    "digits = [int(c) for c in str(f)]\n",
    "\n",
    "sum_ = sum(digits)\n",
    "print(sum_)"
   ]
  },
  {
   "cell_type": "code",
   "execution_count": 10,
   "metadata": {},
   "outputs": [
    {
     "name": "stdout",
     "output_type": "stream",
     "text": [
      "4782\n"
     ]
    }
   ],
   "source": [
    "# PE 25: Based on while loop\n",
    "\n",
    "fib_a, fib_b = 1, 1\n",
    "\n",
    "# Start from the 3rd Fib number\n",
    "index = 2\n",
    "\n",
    "while len(str(fib_b)) < 1000:\n",
    "    fib_a, fib_b = fib_b, fib_a + fib_b\n",
    "    index += 1\n",
    "\n",
    "print(index)"
   ]
  },
  {
   "cell_type": "code",
   "execution_count": 7,
   "metadata": {},
   "outputs": [
    {
     "name": "stdout",
     "output_type": "stream",
     "text": [
      "4782\n"
     ]
    }
   ],
   "source": [
    "# PE 25: Based on mathematical solution\n",
    "\n",
    "# Background:\n",
    "# Wikipedia shows that the nth Fibonacci number is:\n",
    "# fib_n = phi^n / sqr(5), where n > 0, phi = (1+sqrt(5))/2\n",
    "\n",
    "# In this case:\n",
    "# fib_n > 10^(d-1), where d means digits\n",
    "# To find the closest integer, thus:\n",
    "# n > (log10(5)/2 + d - 1)/log10(phi)\n",
    "\n",
    "from math import ceil, log10, sqrt\n",
    "\n",
    "phi = (1+sqrt(5))/2 \n",
    "digits = 1000\n",
    "\n",
    "index = ceil((log10(5)/2 + digits - 1) / log10(phi))\n",
    "\n",
    "print(index)"
   ]
  },
  {
   "cell_type": "code",
   "execution_count": null,
   "metadata": {},
   "outputs": [],
   "source": []
  }
 ],
 "metadata": {
  "kernelspec": {
   "display_name": "Python 3",
   "language": "python",
   "name": "python3"
  },
  "language_info": {
   "codemirror_mode": {
    "name": "ipython",
    "version": 3
   },
   "file_extension": ".py",
   "mimetype": "text/x-python",
   "name": "python",
   "nbconvert_exporter": "python",
   "pygments_lexer": "ipython3",
   "version": "3.6.5"
  }
 },
 "nbformat": 4,
 "nbformat_minor": 2
}
